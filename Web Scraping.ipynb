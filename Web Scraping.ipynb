{
 "cells": [
  {
   "cell_type": "code",
   "execution_count": null,
   "id": "029db6ad",
   "metadata": {},
   "outputs": [],
   "source": [
    "# TASK 3.3: Scrape title of a fixed webpage and save to OneDrive Desktop\n",
    "\n",
    "import os\n",
    "import requests\n",
    "from bs4 import BeautifulSoup\n",
    "\n",
    "url = input(\"Enter the webpage URL: \")\n",
    "\n",
    "try:\n",
    "    response = requests.get(url)\n",
    "    soup = BeautifulSoup(response.text, \"html.parser\")\n",
    "\n",
    "    title = soup.title.string if soup.title else \"No title found\"\n",
    "\n",
    "    # Set Desktop path for your user (OneDrive Desktop)\n",
    "    desktop_path = r\"C:\\Users\\H.A.R\\OneDrive\\Desktop\"\n",
    "    save_file = os.path.join(desktop_path, \"webpage_title.txt\")\n",
    "\n",
    "    # Save the title\n",
    "    with open(save_file, \"w\", encoding=\"utf-8\") as file:\n",
    "        file.write(title)\n",
    "\n",
    "    print(f\"✅ Title scraped: {title}\")\n",
    "    print(f\"📂 Saved to: {save_file}\")\n",
    "\n",
    "except Exception as e:\n",
    "    print(\"❌ Error scraping webpage:\", e)\n"
   ]
  }
 ],
 "metadata": {
  "kernelspec": {
   "display_name": "Python 3 (ipykernel)",
   "language": "python",
   "name": "python3"
  },
  "language_info": {
   "codemirror_mode": {
    "name": "ipython",
    "version": 3
   },
   "file_extension": ".py",
   "mimetype": "text/x-python",
   "name": "python",
   "nbconvert_exporter": "python",
   "pygments_lexer": "ipython3",
   "version": "3.11.5"
  }
 },
 "nbformat": 4,
 "nbformat_minor": 5
}
