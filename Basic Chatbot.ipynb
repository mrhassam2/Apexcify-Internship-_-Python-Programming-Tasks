{
 "cells": [
  {
   "cell_type": "code",
   "execution_count": null,
   "id": "68cd2112",
   "metadata": {},
   "outputs": [],
   "source": [
    "# TASK 4: Basic Chatbot\n",
    "\n",
    "def chatbot():\n",
    "    print(\"🤖 Simple Chatbot (type 'bye' to exit)\")\n",
    "    \n",
    "    while True:\n",
    "        user_input = input(\"You: \").lower()\n",
    "        \n",
    "        if user_input in [\"hello\", \"hi\"]:\n",
    "            print(\"Bot: Hi there!\")\n",
    "        elif user_input in [\"how are you\", \"how are you?\"]:\n",
    "            print(\"Bot: I'm fine, thanks!\")\n",
    "        elif user_input == \"bye\":\n",
    "            print(\"Bot: Goodbye! 👋\")\n",
    "            break\n",
    "        else:\n",
    "            print(\"Bot: Sorry, I don't understand that.\")\n",
    "\n",
    "chatbot()\n"
   ]
  }
 ],
 "metadata": {
  "kernelspec": {
   "display_name": "Python 3 (ipykernel)",
   "language": "python",
   "name": "python3"
  },
  "language_info": {
   "codemirror_mode": {
    "name": "ipython",
    "version": 3
   },
   "file_extension": ".py",
   "mimetype": "text/x-python",
   "name": "python",
   "nbconvert_exporter": "python",
   "pygments_lexer": "ipython3",
   "version": "3.11.5"
  }
 },
 "nbformat": 4,
 "nbformat_minor": 5
}
